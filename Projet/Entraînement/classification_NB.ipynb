{
 "cells": [
  {
   "cell_type": "code",
   "execution_count": 1,
   "metadata": {},
   "outputs": [],
   "source": [
    "import numpy as np\n",
    "import pandas as pd\n",
    "import seaborn as sns\n",
    "import matplotlib.pyplot as plt\n",
    "import nltk\n",
    "from sklearn.naive_bayes import MultinomialNB\n",
    "from sklearn.linear_model import SGDClassifier\n",
    "from sklearn.svm import SVC,LinearSVC\n",
    "from sklearn.neighbors import KNeighborsClassifier\n",
    "from sklearn.model_selection import train_test_split, GridSearchCV\n",
    "from sklearn_evaluation.plot import confusion_matrix\n",
    "from sklearn.feature_extraction.text import CountVectorizer\n",
    "from sklearn.feature_extraction.text import TfidfTransformer\n",
    "from sklearn import metrics"
   ]
  },
  {
   "cell_type": "code",
   "execution_count": 2,
   "metadata": {},
   "outputs": [],
   "source": [
    "news = pd.read_csv(r'C:\\Users\\ADS\\Desktop\\Classification\\data\\aggregator.csv')\n",
    "#news.head()"
   ]
  },
  {
   "cell_type": "code",
   "execution_count": 3,
   "metadata": {},
   "outputs": [
    {
     "data": {
      "text/html": [
       "<div>\n",
       "<style scoped>\n",
       "    .dataframe tbody tr th:only-of-type {\n",
       "        vertical-align: middle;\n",
       "    }\n",
       "\n",
       "    .dataframe tbody tr th {\n",
       "        vertical-align: top;\n",
       "    }\n",
       "\n",
       "    .dataframe thead th {\n",
       "        text-align: right;\n",
       "    }\n",
       "</style>\n",
       "<table border=\"1\" class=\"dataframe\">\n",
       "  <thead>\n",
       "    <tr style=\"text-align: right;\">\n",
       "      <th></th>\n",
       "      <th>ID</th>\n",
       "      <th>TITLE</th>\n",
       "      <th>URL</th>\n",
       "      <th>PUBLISHER</th>\n",
       "      <th>CATEGORY</th>\n",
       "      <th>STORY</th>\n",
       "      <th>HOSTNAME</th>\n",
       "      <th>TIMESTAMP</th>\n",
       "    </tr>\n",
       "  </thead>\n",
       "  <tbody>\n",
       "    <tr>\n",
       "      <th>0</th>\n",
       "      <td>1</td>\n",
       "      <td>Fed official says weak data caused by weather,...</td>\n",
       "      <td>http://www.latimes.com/business/money/la-fi-mo...</td>\n",
       "      <td>Los Angeles Times</td>\n",
       "      <td>b</td>\n",
       "      <td>ddUyU0VZz0BRneMioxUPQVP6sIxvM</td>\n",
       "      <td>www.latimes.com</td>\n",
       "      <td>1394470370698</td>\n",
       "    </tr>\n",
       "    <tr>\n",
       "      <th>1</th>\n",
       "      <td>2</td>\n",
       "      <td>Fed's Charles Plosser sees high bar for change...</td>\n",
       "      <td>http://www.livemint.com/Politics/H2EvwJSK2VE6O...</td>\n",
       "      <td>Livemint</td>\n",
       "      <td>b</td>\n",
       "      <td>ddUyU0VZz0BRneMioxUPQVP6sIxvM</td>\n",
       "      <td>www.livemint.com</td>\n",
       "      <td>1394470371207</td>\n",
       "    </tr>\n",
       "    <tr>\n",
       "      <th>2</th>\n",
       "      <td>3</td>\n",
       "      <td>US open: Stocks fall after Fed official hints ...</td>\n",
       "      <td>http://www.ifamagazine.com/news/us-open-stocks...</td>\n",
       "      <td>IFA Magazine</td>\n",
       "      <td>b</td>\n",
       "      <td>ddUyU0VZz0BRneMioxUPQVP6sIxvM</td>\n",
       "      <td>www.ifamagazine.com</td>\n",
       "      <td>1394470371550</td>\n",
       "    </tr>\n",
       "    <tr>\n",
       "      <th>3</th>\n",
       "      <td>4</td>\n",
       "      <td>Fed risks falling 'behind the curve', Charles ...</td>\n",
       "      <td>http://www.ifamagazine.com/news/fed-risks-fall...</td>\n",
       "      <td>IFA Magazine</td>\n",
       "      <td>b</td>\n",
       "      <td>ddUyU0VZz0BRneMioxUPQVP6sIxvM</td>\n",
       "      <td>www.ifamagazine.com</td>\n",
       "      <td>1394470371793</td>\n",
       "    </tr>\n",
       "    <tr>\n",
       "      <th>4</th>\n",
       "      <td>5</td>\n",
       "      <td>Fed's Plosser: Nasty Weather Has Curbed Job Gr...</td>\n",
       "      <td>http://www.moneynews.com/Economy/federal-reser...</td>\n",
       "      <td>Moneynews</td>\n",
       "      <td>b</td>\n",
       "      <td>ddUyU0VZz0BRneMioxUPQVP6sIxvM</td>\n",
       "      <td>www.moneynews.com</td>\n",
       "      <td>1394470372027</td>\n",
       "    </tr>\n",
       "  </tbody>\n",
       "</table>\n",
       "</div>"
      ],
      "text/plain": [
       "   ID                                              TITLE  \\\n",
       "0   1  Fed official says weak data caused by weather,...   \n",
       "1   2  Fed's Charles Plosser sees high bar for change...   \n",
       "2   3  US open: Stocks fall after Fed official hints ...   \n",
       "3   4  Fed risks falling 'behind the curve', Charles ...   \n",
       "4   5  Fed's Plosser: Nasty Weather Has Curbed Job Gr...   \n",
       "\n",
       "                                                 URL          PUBLISHER  \\\n",
       "0  http://www.latimes.com/business/money/la-fi-mo...  Los Angeles Times   \n",
       "1  http://www.livemint.com/Politics/H2EvwJSK2VE6O...           Livemint   \n",
       "2  http://www.ifamagazine.com/news/us-open-stocks...       IFA Magazine   \n",
       "3  http://www.ifamagazine.com/news/fed-risks-fall...       IFA Magazine   \n",
       "4  http://www.moneynews.com/Economy/federal-reser...          Moneynews   \n",
       "\n",
       "  CATEGORY                          STORY             HOSTNAME      TIMESTAMP  \n",
       "0        b  ddUyU0VZz0BRneMioxUPQVP6sIxvM      www.latimes.com  1394470370698  \n",
       "1        b  ddUyU0VZz0BRneMioxUPQVP6sIxvM     www.livemint.com  1394470371207  \n",
       "2        b  ddUyU0VZz0BRneMioxUPQVP6sIxvM  www.ifamagazine.com  1394470371550  \n",
       "3        b  ddUyU0VZz0BRneMioxUPQVP6sIxvM  www.ifamagazine.com  1394470371793  \n",
       "4        b  ddUyU0VZz0BRneMioxUPQVP6sIxvM    www.moneynews.com  1394470372027  "
      ]
     },
     "execution_count": 3,
     "metadata": {},
     "output_type": "execute_result"
    }
   ],
   "source": [
    "news.head()"
   ]
  },
  {
   "cell_type": "code",
   "execution_count": 36,
   "metadata": {},
   "outputs": [
    {
     "data": {
      "text/plain": [
       "45639"
      ]
     },
     "execution_count": 36,
     "metadata": {},
     "output_type": "execute_result"
    }
   ],
   "source": [
    "#len(news)\n",
    "len(news[news.CATEGORY=='m'])"
   ]
  },
  {
   "cell_type": "code",
   "execution_count": 3,
   "metadata": {},
   "outputs": [
    {
     "data": {
      "text/plain": [
       "array(['b', 't', 'e', 'm'], dtype=object)"
      ]
     },
     "execution_count": 3,
     "metadata": {},
     "output_type": "execute_result"
    }
   ],
   "source": [
    "news['CATEGORY'].unique() # unique category labels"
   ]
  },
  {
   "cell_type": "code",
   "execution_count": 5,
   "metadata": {},
   "outputs": [
    {
     "data": {
      "text/plain": [
       "(-1.101639420124838,\n",
       " 1.1000780787490432,\n",
       " -1.1090927453255768,\n",
       " 1.1174362845275305)"
      ]
     },
     "execution_count": 5,
     "metadata": {},
     "output_type": "execute_result"
    },
    {
     "data": {
      "image/png": "[encoded data removed]",
      "text/plain": [
       "<Figure size 576x432 with 1 Axes>"
      ]
     },
     "metadata": {},
     "output_type": "display_data"
    }
   ],
   "source": [
    "###Visualizing the Data\n",
    "\n",
    "news.CATEGORY.value_counts().plot(kind='pie', \n",
    "                                  figsize=(8,6), \n",
    "                                  fontsize=13, \n",
    "                                  autopct='%1.1f%%', \n",
    "                                  wedgeprops={'linewidth': 5}\n",
    "                                  )\n",
    "plt.axis('off')\n",
    "plt.axis('equal')"
   ]
  },
  {
   "cell_type": "markdown",
   "metadata": {},
   "source": [
    "# Nettoyage du DataSet"
   ]
  },
  {
   "cell_type": "code",
   "execution_count": null,
   "metadata": {},
   "outputs": [],
   "source": [
    "stop = set(stopwords.words('english'))\n",
    "punctuation = list(string.punctuation)\n",
    "stop.update(punctuation)"
   ]
  },
  {
   "cell_type": "code",
   "execution_count": null,
   "metadata": {},
   "outputs": [],
   "source": [
    "#Removing the stopwords from text\n",
    "def remove_stopwords(text):\n",
    "    final_text = []\n",
    "    if(type(text) == str):\n",
    "        for i in text.split():\n",
    "            if i.strip().lower() not in stop:\n",
    "                final_text.append(i.strip())\n",
    "        return \" \".join(final_text)\n",
    "    return text\n",
    "#Removing the square brackets\n",
    "def remove_between_square_brackets(text):\n",
    "    return re.sub('\\[[^]]*\\]', '', str(text))\n",
    "# Removing URL's\n",
    "def remove_between_square_bracketsLien(text):\n",
    "    return re.sub(r'http\\S+', '', str(text))\n",
    "def remove_email(text):\n",
    "    return re.sub(\"([A-Za-z0-9]+[.-_])*[A-Za-z0-9]+@[A-Za-z0-9-]+(\\.[A-Z|a-z]{2,})+\",'',str(text))\n",
    "def met_en_minuscule(text):\n",
    "    \n",
    "    if(type(text)==str): return text.lower()\n",
    "    return text\n",
    "\n",
    "#Removing the noisy text\n",
    "def denoise_text(li):\n",
    "    li_temp = []\n",
    "    for text in li:\n",
    "        #text = strip_html(text)\n",
    "        text = remove_stopwords(text)\n",
    "        text = met_en_minuscule(text)\n",
    "        text = remove_email(text)\n",
    "        text = remove_between_square_brackets(text)\n",
    "        text = remove_between_square_bracketsLien(text)\n",
    "        \n",
    "        \n",
    "        li_temp.append(text)\n",
    "    return li_temp"
   ]
  },
  {
   "cell_type": "markdown",
   "metadata": {},
   "source": [
    "# Models Naive Bayes"
   ]
  },
  {
   "cell_type": "code",
   "execution_count": 3,
   "metadata": {},
   "outputs": [],
   "source": [
    "# convert data to vectors\n",
    "vectorizer = CountVectorizer(stop_words='english')\n",
    "X = vectorizer.fit_transform(news['TITLE'])\n",
    "y = news['CATEGORY']\n",
    "\n",
    "X_train, X_test, y_train, y_test = train_test_split(X, y, test_size=0.30,random_state=42) # 30% split\n"
   ]
  },
  {
   "cell_type": "code",
   "execution_count": 5,
   "metadata": {},
   "outputs": [],
   "source": [
    "X_train_count=vectorizer.fit_transform(X_train)"
   ]
  },
  {
   "cell_type": "code",
   "execution_count": 10,
   "metadata": {},
   "outputs": [],
   "source": [
    "tf=TfidfTransformer()\n",
    "X_train_tf=tf.fit_transform(X_train)"
   ]
  },
  {
   "cell_type": "code",
   "execution_count": 4,
   "metadata": {},
   "outputs": [],
   "source": [
    "mnb = MultinomialNB(alpha=1)\n",
    "classifier=mnb.fit(X_train, y_train)"
   ]
  },
  {
   "cell_type": "code",
   "execution_count": 64,
   "metadata": {
    "collapsed": true
   },
   "outputs": [
    {
     "name": "stdout",
     "output_type": "stream",
     "text": [
      "  (0, 46296)\t0.35670724170993034\n",
      "  (0, 41957)\t0.4450644934255902\n",
      "  (0, 38150)\t0.4973985077526234\n",
      "  (0, 31979)\t0.3645528907143753\n",
      "  (0, 30493)\t0.40552748468905625\n",
      "  (0, 20325)\t0.3604454382046465\n",
      "  (1, 46714)\t0.2857072377134736\n",
      "  (1, 37405)\t0.2715957148293267\n",
      "  (1, 31297)\t0.5142641795945851\n",
      "  (1, 27574)\t0.2992199096913338\n",
      "  (1, 25876)\t0.381464870456837\n",
      "  (1, 23381)\t0.29174348792779725\n",
      "  (1, 16886)\t0.2994010613165797\n",
      "  (1, 13241)\t0.33341149129365444\n",
      "  (1, 12583)\t0.2432550370488163\n",
      "  (2, 36970)\t0.3201442813046916\n",
      "  (2, 36698)\t0.3049868007788827\n",
      "  (2, 36139)\t0.4581967960179431\n",
      "  (2, 17006)\t0.338151170029128\n",
      "  (2, 15140)\t0.3468023578474139\n",
      "  (2, 11464)\t0.4903096423629304\n",
      "  (2, 8311)\t0.3457235196263011\n",
      "  (3, 38734)\t0.6210381893264353\n",
      "  (3, 37825)\t0.4604506993455184\n",
      "  (3, 23114)\t0.35385562790100616\n",
      "  :\t:\n",
      "  (295689, 9938)\t0.2651654312482832\n",
      "  (295689, 9126)\t0.3976927795180737\n",
      "  (295689, 5408)\t0.32553959121750736\n",
      "  (295689, 4824)\t0.2686929102822658\n",
      "  (295690, 40805)\t0.2857501100974624\n",
      "  (295690, 37160)\t0.2515948778649258\n",
      "  (295690, 36153)\t0.31722352740632165\n",
      "  (295690, 29327)\t0.2009547012989021\n",
      "  (295690, 26162)\t0.4798437591427694\n",
      "  (295690, 13801)\t0.36515552696555303\n",
      "  (295690, 8044)\t0.5919837342659224\n",
      "  (295691, 39018)\t0.4809264003714919\n",
      "  (295691, 31053)\t0.49985925934072495\n",
      "  (295691, 17038)\t0.36679815849098646\n",
      "  (295691, 8362)\t0.4259486196689869\n",
      "  (295691, 7382)\t0.4504191410306266\n",
      "  (295692, 47060)\t0.24721292437431885\n",
      "  (295692, 40273)\t0.5025187010376594\n",
      "  (295692, 33395)\t0.2845178592652463\n",
      "  (295692, 31529)\t0.44891022417040705\n",
      "  (295692, 29327)\t0.14910002083180146\n",
      "  (295692, 27181)\t0.3300658486993158\n",
      "  (295692, 20956)\t0.29752821962359893\n",
      "  (295692, 16648)\t0.27339511319622645\n",
      "  (295692, 1872)\t0.3308288280100575\n"
     ]
    }
   ],
   "source": [
    "print(X_train_tf)"
   ]
  },
  {
   "cell_type": "markdown",
   "metadata": {},
   "source": [
    "# SGD Classifier"
   ]
  },
  {
   "cell_type": "code",
   "execution_count": 11,
   "metadata": {},
   "outputs": [],
   "source": [
    "sgd = SGDClassifier(n_jobs=-1, max_iter=10 ,random_state=1234)\n",
    "\n",
    "# hyperparameters for tuning\n",
    "sgd_grid = [{'loss': ['hinge', 'log', 'squared_hinge'],\n",
    "             'alpha': [0.0001, 0.0001, 0.00001]}]\n"
   ]
  },
  {
   "cell_type": "code",
   "execution_count": 14,
   "metadata": {},
   "outputs": [],
   "source": [
    "# grid search with cross validation\n",
    "sgd_search = GridSearchCV(estimator=sgd, param_grid=sgd_grid, cv=5, refit=True)"
   ]
  },
  {
   "cell_type": "code",
   "execution_count": 13,
   "metadata": {},
   "outputs": [
    {
     "name": "stderr",
     "output_type": "stream",
     "text": [
      "C:\\Users\\ADS\\anaconda3\\lib\\site-packages\\sklearn\\linear_model\\_stochastic_gradient.py:570: ConvergenceWarning: Maximum number of iteration reached before convergence. Consider increasing max_iter to improve the fit.\n",
      "  warnings.warn(\"Maximum number of iteration reached before \"\n"
     ]
    },
    {
     "data": {
      "text/plain": [
       "GridSearchCV(cv=5,\n",
       "             estimator=SGDClassifier(max_iter=10, n_jobs=-1, random_state=1234),\n",
       "             param_grid=[{'alpha': [0.0001, 0.0001, 1e-05],\n",
       "                          'loss': ['hinge', 'log', 'squared_hinge']}])"
      ]
     },
     "execution_count": 13,
     "metadata": {},
     "output_type": "execute_result"
    }
   ],
   "source": [
    "sgd_search.fit(X_train, y_train)"
   ]
  },
  {
   "cell_type": "code",
   "execution_count": 9,
   "metadata": {},
   "outputs": [
    {
     "data": {
      "text/plain": [
       "0.9491659170178179"
      ]
     },
     "execution_count": 9,
     "metadata": {},
     "output_type": "execute_result"
    }
   ],
   "source": [
    "sgd_search.best_estimator_.score(X_test, y_test)"
   ]
  },
  {
   "cell_type": "markdown",
   "metadata": {},
   "source": [
    "# teste"
   ]
  },
  {
   "cell_type": "code",
   "execution_count": 1,
   "metadata": {},
   "outputs": [],
   "source": [
    "# test-category function\n",
    "def test_to_category(txt):\n",
    "    '''f=open(title,\"r\")\n",
    "    l=f.read()\n",
    "    f.close()\n",
    "    '''\n",
    "    categories = {'b' : 'business', \n",
    "                  't' : 'science and technology', \n",
    "                  'e' : 'entertainment', \n",
    "                  'm' : 'health'}\n",
    "    #pridicter = sgd_search.best_estimator_.predict(vectorizer.transform([l]))\n",
    "    pridicter = classifier.predict(vectorizer.transform([txt]))\n",
    "    return categories[pridicter[0]]"
   ]
  },
  {
   "cell_type": "code",
   "execution_count": 8,
   "metadata": {},
   "outputs": [
    {
     "name": "stdout",
     "output_type": "stream",
     "text": [
      "le categorie :  entertainment\n"
     ]
    }
   ],
   "source": [
    "# Exemple :\n",
    "print(\"le categorie : \",test_to_category('Music is the art of arranging sounds in time to produce a composition through the elements of melody, harmony, rhythm, and timbre.[1] It is one of the universal cultural aspects of all human societies. General definitions of music include common elements such as pitch (which governs melody and harmony), rhythm (and its associated concepts tempo, meter, and articulation), dynamics (loudness and softness), and the sonic qualities of timbre and texture (which are sometimes termed the \"color\" of a musical sound). Different styles or types of music may emphasize, de-emphasize or omit some of these elements. Music is performed with a vast range of instruments and vocal techniques ranging from singing to rapping; there are solely instrumental pieces, solely vocal pieces (such as songs without instrumental accompaniment) and pieces that combine singing and instruments. The word derives from Greek μουσική (mousike; \"(art) of the Muses\");[2] see § Etymology and glossary of musical terminology.'))"
   ]
  },
  {
   "cell_type": "code",
   "execution_count": 101,
   "metadata": {},
   "outputs": [],
   "source": [
    "a=vectorizer.fit_transform(X_test)\n",
    "b=tf.fit_transform(a)"
   ]
  },
  {
   "cell_type": "code",
   "execution_count": null,
   "metadata": {},
   "outputs": [],
   "source": [
    "sv=SVC(gamma='auto')\n",
    "mn=sv.fit(X_train_tf,y_train)\n",
    "#pri=mn.predict(X_test)"
   ]
  },
  {
   "cell_type": "code",
   "execution_count": 82,
   "metadata": {},
   "outputs": [
    {
     "name": "stdout",
     "output_type": "stream",
     "text": [
      "              precision    recall  f1-score   support\n",
      "\n",
      "           b       0.91      0.91      0.91     34721\n",
      "           e       0.97      0.96      0.96     45860\n",
      "           m       0.92      0.92      0.92     13750\n",
      "           t       0.90      0.91      0.91     32395\n",
      "\n",
      "    accuracy                           0.93    126726\n",
      "   macro avg       0.92      0.92      0.92    126726\n",
      "weighted avg       0.93      0.93      0.93    126726\n",
      "\n"
     ]
    }
   ],
   "source": [
    "print(metrics.classification_report(y_test,pri))"
   ]
  },
  {
   "cell_type": "code",
   "execution_count": 7,
   "metadata": {},
   "outputs": [
    {
     "name": "stdout",
     "output_type": "stream",
     "text": [
      "0.9245300885374745\n"
     ]
    }
   ],
   "source": [
    "print(metrics.accuracy_score(y_test,pri))"
   ]
  },
  {
   "cell_type": "code",
   "execution_count": 17,
   "metadata": {},
   "outputs": [
    {
     "name": "stdout",
     "output_type": "stream",
     "text": [
      "              precision    recall  f1-score   support\n",
      "\n",
      "           b       0.91      0.91      0.91     23414\n",
      "           e       0.97      0.96      0.96     30353\n",
      "           m       0.92      0.92      0.92      9024\n",
      "           t       0.90      0.91      0.90     21693\n",
      "\n",
      "    accuracy                           0.93     84484\n",
      "   macro avg       0.92      0.92      0.92     84484\n",
      "weighted avg       0.93      0.93      0.93     84484\n",
      "\n"
     ]
    }
   ],
   "source": [
    "print(metrics.classification_report(y_test,pri))"
   ]
  },
  {
   "cell_type": "code",
   "execution_count": 8,
   "metadata": {},
   "outputs": [
    {
     "name": "stdout",
     "output_type": "stream",
     "text": [
      "0.9272051512712466\n"
     ]
    }
   ],
   "source": [
    "print(metrics.accuracy_score(y_test,pri))"
   ]
  },
  {
   "cell_type": "code",
   "execution_count": 22,
   "metadata": {},
   "outputs": [
    {
     "data": {
      "text/plain": [
       "KNeighborsClassifier(n_neighbors=4)"
      ]
     },
     "execution_count": 22,
     "metadata": {},
     "output_type": "execute_result"
    }
   ],
   "source": [
    "classifier = KNeighborsClassifier(n_neighbors=4)\n",
    "classifier.fit(X_train, y_train)"
   ]
  },
  {
   "cell_type": "code",
   "execution_count": null,
   "metadata": {},
   "outputs": [],
   "source": [
    "pri=classifier.predict(X_test)"
   ]
  },
  {
   "cell_type": "code",
   "execution_count": 7,
   "metadata": {},
   "outputs": [],
   "source": [
    "pri=mnb.predict(X_test)"
   ]
  },
  {
   "cell_type": "code",
   "execution_count": 10,
   "metadata": {},
   "outputs": [
    {
     "name": "stdout",
     "output_type": "stream",
     "text": [
      "['e' 'b' 'e' ... 't' 'e' 'b']\n"
     ]
    }
   ],
   "source": [
    "print(pri)"
   ]
  },
  {
   "cell_type": "code",
   "execution_count": 10,
   "metadata": {},
   "outputs": [
    {
     "name": "stdout",
     "output_type": "stream",
     "text": [
      "280241    e\n",
      "96315     b\n",
      "280410    e\n",
      "284975    e\n",
      "379072    m\n",
      "         ..\n",
      "214182    t\n",
      "247898    t\n",
      "286187    t\n",
      "99536     e\n",
      "302502    t\n",
      "Name: CATEGORY, Length: 126726, dtype: object\n"
     ]
    }
   ],
   "source": [
    "print(y_test)"
   ]
  },
  {
   "cell_type": "code",
   "execution_count": null,
   "metadata": {},
   "outputs": [],
   "source": []
  }
 ],
 "metadata": {
  "kernelspec": {
   "display_name": "Python 3",
   "language": "python",
   "name": "python3"
  },
  "language_info": {
   "codemirror_mode": {
    "name": "ipython",
    "version": 3
   },
   "file_extension": ".py",
   "mimetype": "text/x-python",
   "name": "python",
   "nbconvert_exporter": "python",
   "pygments_lexer": "ipython3",
   "version": "3.8.5"
  }
 },
 "nbformat": 4,
 "nbformat_minor": 4
}
